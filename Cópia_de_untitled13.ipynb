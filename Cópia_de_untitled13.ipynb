{
  "nbformat": 4,
  "nbformat_minor": 0,
  "metadata": {
    "colab": {
      "provenance": [],
      "authorship_tag": "ABX9TyPREPoXiP9Wq7cD+K2ZAFVa"
    },
    "kernelspec": {
      "name": "python3",
      "display_name": "Python 3"
    },
    "language_info": {
      "name": "python"
    }
  },
  "cells": [
    {
      "cell_type": "code",
      "source": [
        "import pandas as pd\n",
        "import numpy\n",
        "import matplotlib.pyplot as plt\n",
        "import seaborn as sns"
      ],
      "metadata": {
        "id": "kiz23co0OkN9"
      },
      "execution_count": null,
      "outputs": []
    },
    {
      "cell_type": "code",
      "source": [
        "x=0\n",
        "abc=1\n",
        "teste=2\n",
        "aux=10\n",
        "cont=3"
      ],
      "metadata": {
        "id": "BYci5TsFN2hX"
      },
      "execution_count": null,
      "outputs": []
    },
    {
      "cell_type": "code",
      "source": [
        "x+abc+teste+aux+cont"
      ],
      "metadata": {
        "id": "p_iAtv--QUXt"
      },
      "execution_count": null,
      "outputs": []
    }
  ]
}